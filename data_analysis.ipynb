{
 "cells": [
  {
   "cell_type": "markdown",
   "metadata": {},
   "source": [
    "# displaying the data obtained from all pdfs"
   ]
  },
  {
   "cell_type": "code",
   "execution_count": 6,
   "metadata": {},
   "outputs": [
    {
     "data": {
      "text/html": [
       "<div>\n",
       "<style scoped>\n",
       "    .dataframe tbody tr th:only-of-type {\n",
       "        vertical-align: middle;\n",
       "    }\n",
       "\n",
       "    .dataframe tbody tr th {\n",
       "        vertical-align: top;\n",
       "    }\n",
       "\n",
       "    .dataframe thead th {\n",
       "        text-align: right;\n",
       "    }\n",
       "</style>\n",
       "<table border=\"1\" class=\"dataframe\">\n",
       "  <thead>\n",
       "    <tr style=\"text-align: right;\">\n",
       "      <th></th>\n",
       "      <th>policy_number</th>\n",
       "      <th>customerid</th>\n",
       "      <th>name</th>\n",
       "      <th>address</th>\n",
       "      <th>contact_no</th>\n",
       "      <th>typeofvehicle</th>\n",
       "      <th>GSV</th>\n",
       "      <th>reg_no</th>\n",
       "      <th>amount</th>\n",
       "    </tr>\n",
       "  </thead>\n",
       "  <tbody>\n",
       "    <tr>\n",
       "      <th>0</th>\n",
       "      <td>46080331210100001189</td>\n",
       "      <td>ID PO91124721 (PAN No :NA)</td>\n",
       "      <td>(cid:9)RAJ BAHORAN CHAUDHARY  .</td>\n",
       "      <td>S/O (cid:9)RAM LAL CHAUDHARY , GRAM ATARIYA BU...</td>\n",
       "      <td>/</td>\n",
       "      <td>A - Goods Carrying</td>\n",
       "      <td>4450</td>\n",
       "      <td>MP-18-GA-2327</td>\n",
       "      <td>19301</td>\n",
       "    </tr>\n",
       "    <tr>\n",
       "      <th>1</th>\n",
       "      <td>46080031210100001060</td>\n",
       "      <td>ID PO45354935 (PAN No :NA)</td>\n",
       "      <td>MR JAMEEL AHMAD .</td>\n",
       "      <td>S/O VIJIR AHMAD MAIKAL CHOWK W.NO.15,DHANPURI ...</td>\n",
       "      <td>8602374204</td>\n",
       "      <td>A - Goods Carrying</td>\n",
       "      <td>25000</td>\n",
       "      <td>MP-18-GA-1253</td>\n",
       "      <td>50985</td>\n",
       "    </tr>\n",
       "    <tr>\n",
       "      <th>2</th>\n",
       "      <td>46080031210200001070</td>\n",
       "      <td>ID PO26760496 (PAN No\\n:ANNPA7881M)</td>\n",
       "      <td>MR JAMIL AHMAD .</td>\n",
       "      <td>MEAT MARKET,DHANPURI,,  SHAHDOL ,MADHYA PRADES...</td>\n",
       "      <td>8982102597</td>\n",
       "      <td>A - Goods Carrying</td>\n",
       "      <td>5300</td>\n",
       "      <td>MP-18-6180</td>\n",
       "      <td>17754</td>\n",
       "    </tr>\n",
       "    <tr>\n",
       "      <th>3</th>\n",
       "      <td>46080031210100001305</td>\n",
       "      <td>ID PO66438336 (PAN No :NA)</td>\n",
       "      <td>JAMEEL AHMED  .</td>\n",
       "      <td>S/O  WAJEER AHMED ,WARD NO 15 MICKEL CHOWK  DH...</td>\n",
       "      <td>/</td>\n",
       "      <td>A - Goods Carrying</td>\n",
       "      <td>25000</td>\n",
       "      <td>MP-20-GA-3871</td>\n",
       "      <td>52501</td>\n",
       "    </tr>\n",
       "    <tr>\n",
       "      <th>4</th>\n",
       "      <td>46080031210100001313</td>\n",
       "      <td>ID PO60386723 (PAN No :NA)</td>\n",
       "      <td>MR. SAMIM  AHMAD</td>\n",
       "      <td>WARD NO. 11, GRAM MITHAURI PATPARI TOLA,,,  SH...</td>\n",
       "      <td>6263634228</td>\n",
       "      <td>A - Goods Carrying</td>\n",
       "      <td>25000</td>\n",
       "      <td>MP-19-HA-1179</td>\n",
       "      <td>52028</td>\n",
       "    </tr>\n",
       "  </tbody>\n",
       "</table>\n",
       "</div>"
      ],
      "text/plain": [
       "          policy_number                           customerid  \\\n",
       "0  46080331210100001189           ID PO91124721 (PAN No :NA)   \n",
       "1  46080031210100001060           ID PO45354935 (PAN No :NA)   \n",
       "2  46080031210200001070  ID PO26760496 (PAN No\\n:ANNPA7881M)   \n",
       "3  46080031210100001305           ID PO66438336 (PAN No :NA)   \n",
       "4  46080031210100001313           ID PO60386723 (PAN No :NA)   \n",
       "\n",
       "                               name  \\\n",
       "0  (cid:9)RAJ BAHORAN CHAUDHARY  .    \n",
       "1                MR JAMEEL AHMAD .    \n",
       "2                 MR JAMIL AHMAD .    \n",
       "3                  JAMEEL AHMED  .    \n",
       "4                 MR. SAMIM  AHMAD    \n",
       "\n",
       "                                             address  contact_no  \\\n",
       "0  S/O (cid:9)RAM LAL CHAUDHARY , GRAM ATARIYA BU...           /   \n",
       "1  S/O VIJIR AHMAD MAIKAL CHOWK W.NO.15,DHANPURI ...  8602374204   \n",
       "2  MEAT MARKET,DHANPURI,,  SHAHDOL ,MADHYA PRADES...  8982102597   \n",
       "3  S/O  WAJEER AHMED ,WARD NO 15 MICKEL CHOWK  DH...           /   \n",
       "4  WARD NO. 11, GRAM MITHAURI PATPARI TOLA,,,  SH...  6263634228   \n",
       "\n",
       "         typeofvehicle    GSV          reg_no  amount  \n",
       "0  A - Goods Carrying    4450   MP-18-GA-2327   19301  \n",
       "1  A - Goods Carrying   25000   MP-18-GA-1253   50985  \n",
       "2  A - Goods Carrying    5300      MP-18-6180   17754  \n",
       "3  A - Goods Carrying   25000   MP-20-GA-3871   52501  \n",
       "4  A - Goods Carrying   25000   MP-19-HA-1179   52028  "
      ]
     },
     "execution_count": 6,
     "metadata": {},
     "output_type": "execute_result"
    }
   ],
   "source": [
    "import pandas as pd\n",
    "import matplotlib.pyplot as plt\n",
    "df=pd.read_csv(\"data_mining.csv\")\n",
    "df.drop_duplicates(subset=\"reg_no\",inplace=True)\n",
    "df\n",
    "\n"
   ]
  },
  {
   "cell_type": "markdown",
   "metadata": {},
   "source": [
    "# EDA\n"
   ]
  },
  {
   "cell_type": "code",
   "execution_count": 45,
   "metadata": {},
   "outputs": [
    {
     "data": {
      "text/plain": [
       "Text(0, 0.5, 'Amount')"
      ]
     },
     "execution_count": 45,
     "metadata": {},
     "output_type": "execute_result"
    },
    {
     "data": {
      "image/png": "[encoded data removed]",
      "text/plain": [
       "<Figure size 432x288 with 1 Axes>"
      ]
     },
     "metadata": {
      "needs_background": "light"
     },
     "output_type": "display_data"
    }
   ],
   "source": [
    "plt.scatter(df.GSV,df.amount)\n",
    "plt.xlabel(\"GSV\")\n",
    "plt.ylabel(\"Amount\")"
   ]
  },
  {
   "cell_type": "markdown",
   "metadata": {},
   "source": [
    "### Therefore it can be concluded that as GSV increases the premium amount also increases\n"
   ]
  },
  {
   "cell_type": "markdown",
   "metadata": {},
   "source": [
    "# Converting data into an csv file"
   ]
  },
  {
   "cell_type": "code",
   "execution_count": 10,
   "metadata": {},
   "outputs": [],
   "source": [
    "\n",
    "df.to_csv(r'data_analysis.csv',mode=\"a\",header=None,index=False)\n"
   ]
  }
 ],
 "metadata": {
  "kernelspec": {
   "display_name": "Python 3",
   "language": "python",
   "name": "python3"
  },
  "language_info": {
   "codemirror_mode": {
    "name": "ipython",
    "version": 3
   },
   "file_extension": ".py",
   "mimetype": "text/x-python",
   "name": "python",
   "nbconvert_exporter": "python",
   "pygments_lexer": "ipython3",
   "version": "3.8.5"
  }
 },
 "nbformat": 4,
 "nbformat_minor": 4
}
